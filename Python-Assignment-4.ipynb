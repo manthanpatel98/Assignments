{
 "cells": [
  {
   "cell_type": "markdown",
   "metadata": {},
   "source": [
    "### Question 1.1 Area of triangle"
   ]
  },
  {
   "cell_type": "code",
   "execution_count": 1,
   "metadata": {},
   "outputs": [],
   "source": [
    "class Area:\n",
    "    def __init__(self,a,b,c):\n",
    "        self.a = a\n",
    "        self.b = b\n",
    "        self.c = c\n",
    "        \n",
    "    def area_tri(self):\n",
    "        s = (self.a+self.b+self.c)/2\n",
    "        area = (s*(s-self.a)*(s-self.b)*(s-self.c)) ** 0.5\n",
    "        return area"
   ]
  },
  {
   "cell_type": "code",
   "execution_count": 2,
   "metadata": {},
   "outputs": [
    {
     "data": {
      "text/plain": [
       "6.0"
      ]
     },
     "execution_count": 2,
     "metadata": {},
     "output_type": "execute_result"
    }
   ],
   "source": [
    "tri = Area(3,4,5)\n",
    "tri.area_tri()"
   ]
  },
  {
   "cell_type": "markdown",
   "metadata": {},
   "source": [
    "### Question 1.2 Return string whose length is higher than given number"
   ]
  },
  {
   "cell_type": "code",
   "execution_count": 3,
   "metadata": {},
   "outputs": [],
   "source": [
    "class Filter():\n",
    "    def __init__(self,lis,x):\n",
    "        self.lis = lis\n",
    "        self.x = x\n",
    "        \n",
    "    def fil(self):\n",
    "        a = []\n",
    "        for i in range(len(self.lis)):\n",
    "            if(len(lis[i])>self.x):\n",
    "                a.append(self.lis[i])\n",
    "        return a\n",
    "                "
   ]
  },
  {
   "cell_type": "code",
   "execution_count": 4,
   "metadata": {},
   "outputs": [
    {
     "data": {
      "text/plain": [
       "['jklmnop', 'gsjvsbhgjsh']"
      ]
     },
     "execution_count": 4,
     "metadata": {},
     "output_type": "execute_result"
    }
   ],
   "source": [
    "lis = ['abcd','efghi','jklmnop','gsjvsbhgjsh']\n",
    "x = 5\n",
    "fil=Filter(lis,x)\n",
    "fil.fil()"
   ]
  },
  {
   "cell_type": "markdown",
   "metadata": {},
   "source": [
    "### Question 2.1 Relace string with its length"
   ]
  },
  {
   "cell_type": "code",
   "execution_count": 5,
   "metadata": {},
   "outputs": [],
   "source": [
    "class Replace():\n",
    "    def __init__(self,lis):\n",
    "        self.lis = lis\n",
    "        \n",
    "    def repl(self):\n",
    "        for i in range(len(self.lis)):\n",
    "            self.lis[i] = len(self.lis[i])\n",
    "        return self.lis"
   ]
  },
  {
   "cell_type": "code",
   "execution_count": 6,
   "metadata": {},
   "outputs": [
    {
     "data": {
      "text/plain": [
       "[4, 5, 7, 11]"
      ]
     },
     "execution_count": 6,
     "metadata": {},
     "output_type": "execute_result"
    }
   ],
   "source": [
    "lis = ['abcd','efghi','jklmnop','gsjvsbhgjsh']\n",
    "replace = Replace(lis)\n",
    "replace.repl()"
   ]
  },
  {
   "cell_type": "markdown",
   "metadata": {},
   "source": [
    "### Question 2.2 Checking for Vowels"
   ]
  },
  {
   "cell_type": "code",
   "execution_count": 7,
   "metadata": {},
   "outputs": [],
   "source": [
    "class vow():\n",
    "    def __init__(self,lis):\n",
    "        self.lis = lis\n",
    "        \n",
    "    def check_vow(self):\n",
    "        vowels = \"AaEeIiOoUu\"\n",
    "        for i in range(len(self.lis)):\n",
    "            if (lis[i] in vowels): \n",
    "                print('True')\n",
    "            else:\n",
    "                print('False')\n",
    "            "
   ]
  },
  {
   "cell_type": "code",
   "execution_count": 8,
   "metadata": {},
   "outputs": [
    {
     "name": "stdout",
     "output_type": "stream",
     "text": [
      "True\n",
      "False\n",
      "False\n",
      "False\n",
      "True\n",
      "True\n",
      "False\n",
      "False\n",
      "False\n",
      "True\n"
     ]
    }
   ],
   "source": [
    "lis = ['a','b','c','d','e','A','B','C','D','E']\n",
    "vow_checker = vow(lis)\n",
    "vow_checker.check_vow()"
   ]
  },
  {
   "cell_type": "code",
   "execution_count": null,
   "metadata": {},
   "outputs": [],
   "source": []
  }
 ],
 "metadata": {
  "kernelspec": {
   "display_name": "Python 3",
   "language": "python",
   "name": "python3"
  },
  "language_info": {
   "codemirror_mode": {
    "name": "ipython",
    "version": 3
   },
   "file_extension": ".py",
   "mimetype": "text/x-python",
   "name": "python",
   "nbconvert_exporter": "python",
   "pygments_lexer": "ipython3",
   "version": "3.7.4"
  }
 },
 "nbformat": 4,
 "nbformat_minor": 2
}
